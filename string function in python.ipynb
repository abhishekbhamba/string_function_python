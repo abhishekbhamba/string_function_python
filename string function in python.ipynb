{
 "cells": [
  {
   "cell_type": "code",
   "execution_count": 1,
   "id": "fe80ceef",
   "metadata": {},
   "outputs": [],
   "source": [
    "import numpy as np"
   ]
  },
  {
   "cell_type": "markdown",
   "id": "6ed964ff",
   "metadata": {},
   "source": [
    "# string function in python"
   ]
  },
  {
   "cell_type": "code",
   "execution_count": 2,
   "id": "d53399ad",
   "metadata": {},
   "outputs": [],
   "source": [
    "str = \"Python Programming\""
   ]
  },
  {
   "cell_type": "code",
   "execution_count": 3,
   "id": "43110eb3",
   "metadata": {},
   "outputs": [
    {
     "data": {
      "text/plain": [
       "18"
      ]
     },
     "execution_count": 3,
     "metadata": {},
     "output_type": "execute_result"
    }
   ],
   "source": [
    "len(str)  # length"
   ]
  },
  {
   "cell_type": "code",
   "execution_count": 4,
   "id": "464f8002",
   "metadata": {},
   "outputs": [],
   "source": [
    "a = \"abhishek\""
   ]
  },
  {
   "cell_type": "code",
   "execution_count": 5,
   "id": "bdb3ce04",
   "metadata": {},
   "outputs": [
    {
     "data": {
      "text/plain": [
       "'Abhishek'"
      ]
     },
     "execution_count": 5,
     "metadata": {},
     "output_type": "execute_result"
    }
   ],
   "source": [
    "a.capitalize()   # capitalize"
   ]
  },
  {
   "cell_type": "code",
   "execution_count": 6,
   "id": "5988a9d6",
   "metadata": {},
   "outputs": [
    {
     "data": {
      "text/plain": [
       "4"
      ]
     },
     "execution_count": 6,
     "metadata": {},
     "output_type": "execute_result"
    }
   ],
   "source": [
    "a.find('sh')  # find index no."
   ]
  },
  {
   "cell_type": "code",
   "execution_count": 7,
   "id": "ba4810ab",
   "metadata": {},
   "outputs": [
    {
     "data": {
      "text/plain": [
       "7"
      ]
     },
     "execution_count": 7,
     "metadata": {},
     "output_type": "execute_result"
    }
   ],
   "source": [
    "a.find('k')"
   ]
  },
  {
   "cell_type": "code",
   "execution_count": 8,
   "id": "973d0b78",
   "metadata": {},
   "outputs": [
    {
     "data": {
      "text/plain": [
       "-1"
      ]
     },
     "execution_count": 8,
     "metadata": {},
     "output_type": "execute_result"
    }
   ],
   "source": [
    "a.find('ak')"
   ]
  },
  {
   "cell_type": "code",
   "execution_count": 9,
   "id": "daee51d7",
   "metadata": {},
   "outputs": [
    {
     "data": {
      "text/plain": [
       "-1"
      ]
     },
     "execution_count": 9,
     "metadata": {},
     "output_type": "execute_result"
    }
   ],
   "source": [
    "a.find('aik')"
   ]
  },
  {
   "cell_type": "code",
   "execution_count": 14,
   "id": "a376e925",
   "metadata": {},
   "outputs": [
    {
     "data": {
      "text/plain": [
       "'abhishek'"
      ]
     },
     "execution_count": 14,
     "metadata": {},
     "output_type": "execute_result"
    }
   ],
   "source": [
    "a"
   ]
  },
  {
   "cell_type": "code",
   "execution_count": 18,
   "id": "a83dd7ba",
   "metadata": {},
   "outputs": [
    {
     "data": {
      "text/plain": [
       "-1"
      ]
     },
     "execution_count": 18,
     "metadata": {},
     "output_type": "execute_result"
    }
   ],
   "source": [
    "a.find(a,2,6)"
   ]
  },
  {
   "cell_type": "code",
   "execution_count": 19,
   "id": "53efb310",
   "metadata": {},
   "outputs": [],
   "source": [
    "zx = \"mammals\""
   ]
  },
  {
   "cell_type": "code",
   "execution_count": 20,
   "id": "199c91e0",
   "metadata": {},
   "outputs": [
    {
     "data": {
      "text/plain": [
       "0"
      ]
     },
     "execution_count": 20,
     "metadata": {},
     "output_type": "execute_result"
    }
   ],
   "source": [
    "zx.find('ma')"
   ]
  },
  {
   "cell_type": "code",
   "execution_count": 23,
   "id": "d319fd7b",
   "metadata": {},
   "outputs": [
    {
     "data": {
      "text/plain": [
       "-1"
      ]
     },
     "execution_count": 23,
     "metadata": {},
     "output_type": "execute_result"
    }
   ],
   "source": [
    "zx.find('ma',4,6)"
   ]
  },
  {
   "cell_type": "code",
   "execution_count": 24,
   "id": "2e38947e",
   "metadata": {},
   "outputs": [
    {
     "data": {
      "text/plain": [
       "'abhishek'"
      ]
     },
     "execution_count": 24,
     "metadata": {},
     "output_type": "execute_result"
    }
   ],
   "source": [
    "a"
   ]
  },
  {
   "cell_type": "code",
   "execution_count": 25,
   "id": "d99ddc94",
   "metadata": {},
   "outputs": [
    {
     "data": {
      "text/plain": [
       "4"
      ]
     },
     "execution_count": 25,
     "metadata": {},
     "output_type": "execute_result"
    }
   ],
   "source": [
    "a.find('s',3,6)"
   ]
  },
  {
   "cell_type": "code",
   "execution_count": null,
   "id": "d3f09158",
   "metadata": {},
   "outputs": [],
   "source": []
  }
 ],
 "metadata": {
  "kernelspec": {
   "display_name": "Python 3",
   "language": "python",
   "name": "python3"
  },
  "language_info": {
   "codemirror_mode": {
    "name": "ipython",
    "version": 3
   },
   "file_extension": ".py",
   "mimetype": "text/x-python",
   "name": "python",
   "nbconvert_exporter": "python",
   "pygments_lexer": "ipython3",
   "version": "3.8.8"
  }
 },
 "nbformat": 4,
 "nbformat_minor": 5
}
